{
 "metadata": {
  "language_info": {
   "codemirror_mode": {
    "name": "ipython",
    "version": 3
   },
   "file_extension": ".py",
   "mimetype": "text/x-python",
   "name": "python",
   "nbconvert_exporter": "python",
   "pygments_lexer": "ipython3",
   "version": "3.8.5-final"
  },
  "orig_nbformat": 2,
  "kernelspec": {
   "name": "Python 3.8.5 64-bit",
   "display_name": "Python 3.8.5 64-bit",
   "metadata": {
    "interpreter": {
     "hash": "767d51c1340bd893661ea55ea3124f6de3c7a262a8b4abca0554b478b1e2ff90"
    }
   }
  }
 },
 "nbformat": 4,
 "nbformat_minor": 2,
 "cells": [
  {
   "cell_type": "code",
   "execution_count": 15,
   "metadata": {},
   "outputs": [],
   "source": [
    "import requests\n",
    "from bs4 import BeautifulSoup"
   ]
  },
  {
   "cell_type": "code",
   "execution_count": 16,
   "metadata": {},
   "outputs": [],
   "source": [
    "URL = 'https://portafolioinfo.cnbv.gob.mx/PUBLICACIONES/SH/Paginas/bm.aspx'\n",
    "page = requests.get(URL)"
   ]
  },
  {
   "cell_type": "code",
   "execution_count": 17,
   "metadata": {},
   "outputs": [],
   "source": [
    "soup = BeautifulSoup(page.content, 'html.parser')"
   ]
  },
  {
   "cell_type": "code",
   "execution_count": 18,
   "metadata": {
    "tags": []
   },
   "outputs": [],
   "source": [
    "step_1 = soup.prettify().split('var jsonData = ')\n",
    "step_2 = \" \".join(step_1[1].split())\n",
    "jsonData = step_2.split('; var columns = ', 1)[0]"
   ]
  },
  {
   "cell_type": "code",
   "execution_count": 19,
   "metadata": {},
   "outputs": [
    {
     "output_type": "stream",
     "name": "stdout",
     "text": [
      "https://portafolioinfo.cnbv.gob.mx/PortafolioInformacion/SH_BM_202007.xls\n"
     ]
    }
   ],
   "source": [
    "baseURL = 'https://portafolioinfo.cnbv.gob.mx'\n",
    "listData = eval(jsonData)\n",
    "arrayLinks = []\n",
    "for item in listData:\n",
    "    year = item[1]\n",
    "    month = item[2]\n",
    "    fileData = item[4]\n",
    "    linkToDownload = baseURL + fileData\n",
    "    arrayLinks.append(linkToDownload)\n",
    "\n",
    "print(arrayLinks[0])"
   ]
  }
 ]
}